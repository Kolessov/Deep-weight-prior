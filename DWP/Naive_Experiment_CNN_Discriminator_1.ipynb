{
  "nbformat": 4,
  "nbformat_minor": 0,
  "metadata": {
    "colab": {
      "name": "Naive_Experiment_CNN_Discriminator_1.ipynb",
      "provenance": []
    },
    "kernelspec": {
      "name": "python3",
      "display_name": "Python 3"
    },
    "accelerator": "GPU",
    "widgets": {
      "application/vnd.jupyter.widget-state+json": {
        "4c8c01a5215c4525a5bd63767c002ab0": {
          "model_module": "@jupyter-widgets/controls",
          "model_name": "HBoxModel",
          "state": {
            "_view_name": "HBoxView",
            "_dom_classes": [],
            "_model_name": "HBoxModel",
            "_view_module": "@jupyter-widgets/controls",
            "_model_module_version": "1.5.0",
            "_view_count": null,
            "_view_module_version": "1.5.0",
            "box_style": "",
            "layout": "IPY_MODEL_fd1f4851c64648edb916e7f177e8b575",
            "_model_module": "@jupyter-widgets/controls",
            "children": [
              "IPY_MODEL_3bdae38d7e304b828814218aa93a41e0",
              "IPY_MODEL_13e8b1bb61de46f6997a97151e838099"
            ]
          }
        },
        "fd1f4851c64648edb916e7f177e8b575": {
          "model_module": "@jupyter-widgets/base",
          "model_name": "LayoutModel",
          "state": {
            "_view_name": "LayoutView",
            "grid_template_rows": null,
            "right": null,
            "justify_content": null,
            "_view_module": "@jupyter-widgets/base",
            "overflow": null,
            "_model_module_version": "1.2.0",
            "_view_count": null,
            "flex_flow": null,
            "width": null,
            "min_width": null,
            "border": null,
            "align_items": null,
            "bottom": null,
            "_model_module": "@jupyter-widgets/base",
            "top": null,
            "grid_column": null,
            "overflow_y": null,
            "overflow_x": null,
            "grid_auto_flow": null,
            "grid_area": null,
            "grid_template_columns": null,
            "flex": null,
            "_model_name": "LayoutModel",
            "justify_items": null,
            "grid_row": null,
            "max_height": null,
            "align_content": null,
            "visibility": null,
            "align_self": null,
            "height": null,
            "min_height": null,
            "padding": null,
            "grid_auto_rows": null,
            "grid_gap": null,
            "max_width": null,
            "order": null,
            "_view_module_version": "1.2.0",
            "grid_template_areas": null,
            "object_position": null,
            "object_fit": null,
            "grid_auto_columns": null,
            "margin": null,
            "display": null,
            "left": null
          }
        },
        "3bdae38d7e304b828814218aa93a41e0": {
          "model_module": "@jupyter-widgets/controls",
          "model_name": "FloatProgressModel",
          "state": {
            "_view_name": "ProgressView",
            "style": "IPY_MODEL_41a44ada78444ded9be8cea3513b5922",
            "_dom_classes": [],
            "description": "",
            "_model_name": "FloatProgressModel",
            "bar_style": "info",
            "max": 1,
            "_view_module": "@jupyter-widgets/controls",
            "_model_module_version": "1.5.0",
            "value": 1,
            "_view_count": null,
            "_view_module_version": "1.5.0",
            "orientation": "horizontal",
            "min": 0,
            "description_tooltip": null,
            "_model_module": "@jupyter-widgets/controls",
            "layout": "IPY_MODEL_4fcfacaf87c04980a3ae7e87fab7dd0a"
          }
        },
        "13e8b1bb61de46f6997a97151e838099": {
          "model_module": "@jupyter-widgets/controls",
          "model_name": "HTMLModel",
          "state": {
            "_view_name": "HTMLView",
            "style": "IPY_MODEL_4fd470375d834be6bd83ac054dbc9d65",
            "_dom_classes": [],
            "description": "",
            "_model_name": "HTMLModel",
            "placeholder": "​",
            "_view_module": "@jupyter-widgets/controls",
            "_model_module_version": "1.5.0",
            "value": " 170500096/? [00:20&lt;00:00, 56967849.73it/s]",
            "_view_count": null,
            "_view_module_version": "1.5.0",
            "description_tooltip": null,
            "_model_module": "@jupyter-widgets/controls",
            "layout": "IPY_MODEL_85cc837d367b46d19034a33a69526290"
          }
        },
        "41a44ada78444ded9be8cea3513b5922": {
          "model_module": "@jupyter-widgets/controls",
          "model_name": "ProgressStyleModel",
          "state": {
            "_view_name": "StyleView",
            "_model_name": "ProgressStyleModel",
            "description_width": "initial",
            "_view_module": "@jupyter-widgets/base",
            "_model_module_version": "1.5.0",
            "_view_count": null,
            "_view_module_version": "1.2.0",
            "bar_color": null,
            "_model_module": "@jupyter-widgets/controls"
          }
        },
        "4fcfacaf87c04980a3ae7e87fab7dd0a": {
          "model_module": "@jupyter-widgets/base",
          "model_name": "LayoutModel",
          "state": {
            "_view_name": "LayoutView",
            "grid_template_rows": null,
            "right": null,
            "justify_content": null,
            "_view_module": "@jupyter-widgets/base",
            "overflow": null,
            "_model_module_version": "1.2.0",
            "_view_count": null,
            "flex_flow": null,
            "width": null,
            "min_width": null,
            "border": null,
            "align_items": null,
            "bottom": null,
            "_model_module": "@jupyter-widgets/base",
            "top": null,
            "grid_column": null,
            "overflow_y": null,
            "overflow_x": null,
            "grid_auto_flow": null,
            "grid_area": null,
            "grid_template_columns": null,
            "flex": null,
            "_model_name": "LayoutModel",
            "justify_items": null,
            "grid_row": null,
            "max_height": null,
            "align_content": null,
            "visibility": null,
            "align_self": null,
            "height": null,
            "min_height": null,
            "padding": null,
            "grid_auto_rows": null,
            "grid_gap": null,
            "max_width": null,
            "order": null,
            "_view_module_version": "1.2.0",
            "grid_template_areas": null,
            "object_position": null,
            "object_fit": null,
            "grid_auto_columns": null,
            "margin": null,
            "display": null,
            "left": null
          }
        },
        "4fd470375d834be6bd83ac054dbc9d65": {
          "model_module": "@jupyter-widgets/controls",
          "model_name": "DescriptionStyleModel",
          "state": {
            "_view_name": "StyleView",
            "_model_name": "DescriptionStyleModel",
            "description_width": "",
            "_view_module": "@jupyter-widgets/base",
            "_model_module_version": "1.5.0",
            "_view_count": null,
            "_view_module_version": "1.2.0",
            "_model_module": "@jupyter-widgets/controls"
          }
        },
        "85cc837d367b46d19034a33a69526290": {
          "model_module": "@jupyter-widgets/base",
          "model_name": "LayoutModel",
          "state": {
            "_view_name": "LayoutView",
            "grid_template_rows": null,
            "right": null,
            "justify_content": null,
            "_view_module": "@jupyter-widgets/base",
            "overflow": null,
            "_model_module_version": "1.2.0",
            "_view_count": null,
            "flex_flow": null,
            "width": null,
            "min_width": null,
            "border": null,
            "align_items": null,
            "bottom": null,
            "_model_module": "@jupyter-widgets/base",
            "top": null,
            "grid_column": null,
            "overflow_y": null,
            "overflow_x": null,
            "grid_auto_flow": null,
            "grid_area": null,
            "grid_template_columns": null,
            "flex": null,
            "_model_name": "LayoutModel",
            "justify_items": null,
            "grid_row": null,
            "max_height": null,
            "align_content": null,
            "visibility": null,
            "align_self": null,
            "height": null,
            "min_height": null,
            "padding": null,
            "grid_auto_rows": null,
            "grid_gap": null,
            "max_width": null,
            "order": null,
            "_view_module_version": "1.2.0",
            "grid_template_areas": null,
            "object_position": null,
            "object_fit": null,
            "grid_auto_columns": null,
            "margin": null,
            "display": null,
            "left": null
          }
        },
        "543adb711a714d128bfb7e49ec52063e": {
          "model_module": "@jupyter-widgets/controls",
          "model_name": "HBoxModel",
          "state": {
            "_view_name": "HBoxView",
            "_dom_classes": [],
            "_model_name": "HBoxModel",
            "_view_module": "@jupyter-widgets/controls",
            "_model_module_version": "1.5.0",
            "_view_count": null,
            "_view_module_version": "1.5.0",
            "box_style": "",
            "layout": "IPY_MODEL_ead126521ec94dfd8cc5b0096359ec3a",
            "_model_module": "@jupyter-widgets/controls",
            "children": [
              "IPY_MODEL_bc8901226b8a42fe996dedbf3ecc6411",
              "IPY_MODEL_e7894f11b268451eb9e8097d9ca16908"
            ]
          }
        },
        "ead126521ec94dfd8cc5b0096359ec3a": {
          "model_module": "@jupyter-widgets/base",
          "model_name": "LayoutModel",
          "state": {
            "_view_name": "LayoutView",
            "grid_template_rows": null,
            "right": null,
            "justify_content": null,
            "_view_module": "@jupyter-widgets/base",
            "overflow": null,
            "_model_module_version": "1.2.0",
            "_view_count": null,
            "flex_flow": null,
            "width": null,
            "min_width": null,
            "border": null,
            "align_items": null,
            "bottom": null,
            "_model_module": "@jupyter-widgets/base",
            "top": null,
            "grid_column": null,
            "overflow_y": null,
            "overflow_x": null,
            "grid_auto_flow": null,
            "grid_area": null,
            "grid_template_columns": null,
            "flex": null,
            "_model_name": "LayoutModel",
            "justify_items": null,
            "grid_row": null,
            "max_height": null,
            "align_content": null,
            "visibility": null,
            "align_self": null,
            "height": null,
            "min_height": null,
            "padding": null,
            "grid_auto_rows": null,
            "grid_gap": null,
            "max_width": null,
            "order": null,
            "_view_module_version": "1.2.0",
            "grid_template_areas": null,
            "object_position": null,
            "object_fit": null,
            "grid_auto_columns": null,
            "margin": null,
            "display": null,
            "left": null
          }
        },
        "bc8901226b8a42fe996dedbf3ecc6411": {
          "model_module": "@jupyter-widgets/controls",
          "model_name": "FloatProgressModel",
          "state": {
            "_view_name": "ProgressView",
            "style": "IPY_MODEL_81bc72cb54c34cd798c73ce8d3299fb6",
            "_dom_classes": [],
            "description": "100%",
            "_model_name": "FloatProgressModel",
            "bar_style": "success",
            "max": 70,
            "_view_module": "@jupyter-widgets/controls",
            "_model_module_version": "1.5.0",
            "value": 70,
            "_view_count": null,
            "_view_module_version": "1.5.0",
            "orientation": "horizontal",
            "min": 0,
            "description_tooltip": null,
            "_model_module": "@jupyter-widgets/controls",
            "layout": "IPY_MODEL_e247c8a3bc0440fa8c7dedbb8757f1f4"
          }
        },
        "e7894f11b268451eb9e8097d9ca16908": {
          "model_module": "@jupyter-widgets/controls",
          "model_name": "HTMLModel",
          "state": {
            "_view_name": "HTMLView",
            "style": "IPY_MODEL_14e66a84ee8642638fc6380b18892ed5",
            "_dom_classes": [],
            "description": "",
            "_model_name": "HTMLModel",
            "placeholder": "​",
            "_view_module": "@jupyter-widgets/controls",
            "_model_module_version": "1.5.0",
            "value": " 70/70 [36:20&lt;00:00, 31.14s/it]",
            "_view_count": null,
            "_view_module_version": "1.5.0",
            "description_tooltip": null,
            "_model_module": "@jupyter-widgets/controls",
            "layout": "IPY_MODEL_d2ed904ebf3c4a37a712da94287d2141"
          }
        },
        "81bc72cb54c34cd798c73ce8d3299fb6": {
          "model_module": "@jupyter-widgets/controls",
          "model_name": "ProgressStyleModel",
          "state": {
            "_view_name": "StyleView",
            "_model_name": "ProgressStyleModel",
            "description_width": "initial",
            "_view_module": "@jupyter-widgets/base",
            "_model_module_version": "1.5.0",
            "_view_count": null,
            "_view_module_version": "1.2.0",
            "bar_color": null,
            "_model_module": "@jupyter-widgets/controls"
          }
        },
        "e247c8a3bc0440fa8c7dedbb8757f1f4": {
          "model_module": "@jupyter-widgets/base",
          "model_name": "LayoutModel",
          "state": {
            "_view_name": "LayoutView",
            "grid_template_rows": null,
            "right": null,
            "justify_content": null,
            "_view_module": "@jupyter-widgets/base",
            "overflow": null,
            "_model_module_version": "1.2.0",
            "_view_count": null,
            "flex_flow": null,
            "width": null,
            "min_width": null,
            "border": null,
            "align_items": null,
            "bottom": null,
            "_model_module": "@jupyter-widgets/base",
            "top": null,
            "grid_column": null,
            "overflow_y": null,
            "overflow_x": null,
            "grid_auto_flow": null,
            "grid_area": null,
            "grid_template_columns": null,
            "flex": null,
            "_model_name": "LayoutModel",
            "justify_items": null,
            "grid_row": null,
            "max_height": null,
            "align_content": null,
            "visibility": null,
            "align_self": null,
            "height": null,
            "min_height": null,
            "padding": null,
            "grid_auto_rows": null,
            "grid_gap": null,
            "max_width": null,
            "order": null,
            "_view_module_version": "1.2.0",
            "grid_template_areas": null,
            "object_position": null,
            "object_fit": null,
            "grid_auto_columns": null,
            "margin": null,
            "display": null,
            "left": null
          }
        },
        "14e66a84ee8642638fc6380b18892ed5": {
          "model_module": "@jupyter-widgets/controls",
          "model_name": "DescriptionStyleModel",
          "state": {
            "_view_name": "StyleView",
            "_model_name": "DescriptionStyleModel",
            "description_width": "",
            "_view_module": "@jupyter-widgets/base",
            "_model_module_version": "1.5.0",
            "_view_count": null,
            "_view_module_version": "1.2.0",
            "_model_module": "@jupyter-widgets/controls"
          }
        },
        "d2ed904ebf3c4a37a712da94287d2141": {
          "model_module": "@jupyter-widgets/base",
          "model_name": "LayoutModel",
          "state": {
            "_view_name": "LayoutView",
            "grid_template_rows": null,
            "right": null,
            "justify_content": null,
            "_view_module": "@jupyter-widgets/base",
            "overflow": null,
            "_model_module_version": "1.2.0",
            "_view_count": null,
            "flex_flow": null,
            "width": null,
            "min_width": null,
            "border": null,
            "align_items": null,
            "bottom": null,
            "_model_module": "@jupyter-widgets/base",
            "top": null,
            "grid_column": null,
            "overflow_y": null,
            "overflow_x": null,
            "grid_auto_flow": null,
            "grid_area": null,
            "grid_template_columns": null,
            "flex": null,
            "_model_name": "LayoutModel",
            "justify_items": null,
            "grid_row": null,
            "max_height": null,
            "align_content": null,
            "visibility": null,
            "align_self": null,
            "height": null,
            "min_height": null,
            "padding": null,
            "grid_auto_rows": null,
            "grid_gap": null,
            "max_width": null,
            "order": null,
            "_view_module_version": "1.2.0",
            "grid_template_areas": null,
            "object_position": null,
            "object_fit": null,
            "grid_auto_columns": null,
            "margin": null,
            "display": null,
            "left": null
          }
        }
      }
    }
  },
  "cells": [
    {
      "cell_type": "markdown",
      "metadata": {
        "id": "yK-GEH5iV5LP"
      },
      "source": [
        "### First attempt "
      ]
    },
    {
      "cell_type": "markdown",
      "metadata": {
        "id": "N8Lpu6JmWFEs"
      },
      "source": [
        "This notebook constitutes the first attempt of the following approach. In accordance to ideas, the main aim is to train filters(kernels) of a convolutional neural network for classification data on CIFAR 100. This first attempt will follow to the plan.\n",
        "\n",
        "1.   Obtain Source Kernel Distribution(SKD) by training the CNN on CIFAR 10.\n",
        "2.   Take the CNN with unlearned kernels for classification of CIFAR 100 data.\n",
        "3.   During the some iterations one should train filters of CNN by SGD (loss missclassification minimize by $\\omega$(kernels))\n",
        "4.   Take a untrained discriminator $\\mathbb{D}$ and this network will try to distinguish $\\omega$ (as fake) and $\\omega_{SKD}$ (as real) by learning parameters of Discriminator.\n",
        "5.   At the same time one can try to perplex the $\\mathbb{D}$ via the following expression: $$ log \\mathbb{D} (\\omega)  \\rightarrow \\min_{\\omega} $$\n",
        "6.  Take this new more optimized filters and fit to CNN and will steps 4-5, but with more trained $\\mathbb{D}$\n",
        "\n"
      ]
    },
    {
      "cell_type": "code",
      "metadata": {
        "id": "g8pnvKfhFxP6"
      },
      "source": [
        "import torch\n",
        "import torchvision\n",
        "\n",
        "\n",
        "from IPython.display import clear_output\n",
        "import time\n",
        "import tqdm\n",
        "from tqdm import tqdm_notebook\n",
        "from collections import defaultdict\n",
        "import numpy as np\n",
        "import matplotlib.pyplot as plt\n",
        "%matplotlib inline"
      ],
      "execution_count": 1,
      "outputs": []
    },
    {
      "cell_type": "code",
      "metadata": {
        "colab": {
          "base_uri": "https://localhost:8080/"
        },
        "id": "VFg-1AK4orOZ",
        "outputId": "b359e767-f3b9-410b-97a5-1fd7941ebb43"
      },
      "source": [
        "torch.cuda.is_available()"
      ],
      "execution_count": 3,
      "outputs": [
        {
          "output_type": "execute_result",
          "data": {
            "text/plain": [
              "True"
            ]
          },
          "metadata": {
            "tags": []
          },
          "execution_count": 3
        }
      ]
    },
    {
      "cell_type": "markdown",
      "metadata": {
        "id": "TtU3dch0ouyO"
      },
      "source": [
        "### 1. Obtain Source Kernel Distribution (SKD)"
      ]
    },
    {
      "cell_type": "code",
      "metadata": {
        "colab": {
          "base_uri": "https://localhost:8080/",
          "height": 100,
          "referenced_widgets": [
            "4c8c01a5215c4525a5bd63767c002ab0",
            "fd1f4851c64648edb916e7f177e8b575",
            "3bdae38d7e304b828814218aa93a41e0",
            "13e8b1bb61de46f6997a97151e838099",
            "41a44ada78444ded9be8cea3513b5922",
            "4fcfacaf87c04980a3ae7e87fab7dd0a",
            "4fd470375d834be6bd83ac054dbc9d65",
            "85cc837d367b46d19034a33a69526290"
          ]
        },
        "id": "0_k06mbWkB0z",
        "outputId": "b1d18523-9727-4e3e-e049-3e6eff4f32ce"
      },
      "source": [
        "train_val_dataset = torchvision.datasets.CIFAR10(root='./data',train=True,transform=torchvision.transforms.ToTensor(),download=True)\n",
        "test_dataset = torchvision.datasets.CIFAR10(root='./data',train=False, transform=torchvision.transforms.ToTensor(),download=True)\n",
        "train_dataset, val_dataset = torch.utils.data.random_split(train_val_dataset, [40000,10000])\n",
        "classes = ('plane', 'car', 'bird', 'cat',\n",
        "           'deer', 'dog', 'frog', 'horse', 'ship', 'truck')"
      ],
      "execution_count": 4,
      "outputs": [
        {
          "output_type": "stream",
          "text": [
            "Downloading https://www.cs.toronto.edu/~kriz/cifar-10-python.tar.gz to ./data/cifar-10-python.tar.gz\n"
          ],
          "name": "stdout"
        },
        {
          "output_type": "display_data",
          "data": {
            "application/vnd.jupyter.widget-view+json": {
              "model_id": "4c8c01a5215c4525a5bd63767c002ab0",
              "version_minor": 0,
              "version_major": 2
            },
            "text/plain": [
              "HBox(children=(FloatProgress(value=1.0, bar_style='info', max=1.0), HTML(value='')))"
            ]
          },
          "metadata": {
            "tags": []
          }
        },
        {
          "output_type": "stream",
          "text": [
            "Extracting ./data/cifar-10-python.tar.gz to ./data\n",
            "Files already downloaded and verified\n"
          ],
          "name": "stdout"
        }
      ]
    },
    {
      "cell_type": "code",
      "metadata": {
        "id": "POf6VWFmlL9l"
      },
      "source": [
        "BATCH_SIZE = 64\n",
        "train_loader = torch.utils.data.DataLoader(train_dataset, batch_size=BATCH_SIZE, shuffle=True)\n",
        "val_loader = torch.utils.data.DataLoader(val_dataset, batch_size=BATCH_SIZE, shuffle=True)\n",
        "test_loader = torch.utils.data.DataLoader(test_dataset, batch_size=BATCH_SIZE, shuffle=False)"
      ],
      "execution_count": 5,
      "outputs": []
    },
    {
      "cell_type": "code",
      "metadata": {
        "id": "afYF8vHypiPR"
      },
      "source": [
        "def plot_learning_curves(history):\n",
        "    '''\n",
        "     \n",
        "    This function is aimed to show up at all loss and accuracy (metrics) during the training of the model\n",
        "\n",
        "    :param history: (dict)\n",
        "        accuracy and loss on the training and validation\n",
        "    '''\n",
        "    # sns.set_style(style='whitegrid')\n",
        "\n",
        "    fig = plt.figure(figsize=(20, 7))\n",
        "\n",
        "    plt.subplot(1,2,1)\n",
        "    plt.title('Loss', fontsize=15)\n",
        "\n",
        "    plt.plot(history['loss']['train'], label='train')\n",
        "    plt.plot(history['loss']['val'], label='validation')\n",
        "\n",
        "    plt.ylabel('Loss', fontsize=15)\n",
        "    plt.xlabel('Num epochs', fontsize=15)\n",
        "    plt.legend()\n",
        "\n",
        "    plt.subplot(1,2,2)\n",
        "    plt.title('Accuracy', fontsize=15)\n",
        "    plt.plot(history['acc']['train'], label='train')\n",
        "    plt.plot(history['acc']['val'], label='validation')\n",
        "    plt.ylabel('Accuracy', fontsize=15)\n",
        "    plt.xlabel('Num epochs', fontsize=15)\n",
        "    plt.legend()\n",
        "    plt.show()"
      ],
      "execution_count": 6,
      "outputs": []
    },
    {
      "cell_type": "markdown",
      "metadata": {
        "id": "p3ZF2ErBq2mc"
      },
      "source": [
        "Let me define the following simple convolutional network that has to classify images of CIFAR100  finally, however we are going to train it on CIFAR 10 to get SKD  now."
      ]
    },
    {
      "cell_type": "markdown",
      "metadata": {
        "id": "ByrXjxxLtaYt"
      },
      "source": [
        "The convolutional network is composed of 2 layers \n",
        "\n",
        "1.   1 layer: 32 * 3 filters with  size 3x3\n",
        "2.   2 layer: 64*32 filters with size 3x3\n",
        "\n"
      ]
    },
    {
      "cell_type": "code",
      "metadata": {
        "id": "8Oy7fmvEloKe"
      },
      "source": [
        "class SimpleConvNet(torch.nn.Module):\n",
        "  def __init__(self):\n",
        "    super().__init__()\n",
        "    \n",
        "    self.conv1 = torch.nn.Conv2d(in_channels = 3,out_channels = 32, kernel_size = 3) \n",
        "    self.mp1 = torch.nn.MaxPool2d(kernel_size = 2)\n",
        "    self.bn1 = torch.nn.BatchNorm2d(32)\n",
        "    self.droupout1 = torch.nn.Dropout(0.3)\n",
        "    self.relu1 = torch.nn.ReLU()\n",
        "    # [batch,32,15,15]\n",
        "        \n",
        "    self.conv2 = torch.nn.Conv2d(in_channels=32, out_channels=64, kernel_size=3)\n",
        "    self.mp2 = torch.nn.MaxPool2d(kernel_size=2)\n",
        "    self.bn2 = torch.nn.BatchNorm2d(64)\n",
        "    self.droupout2 = torch.nn.Dropout(0.3)\n",
        "    self.relu2 = torch.nn.ReLU()\n",
        "    #[batch,64,6,6]\n",
        "        \n",
        "    self.flatten = torch.nn.Flatten()\n",
        "    self.fc3 = torch.nn.Linear(64*6*6, 512)\n",
        "    self.droupout3 = torch.nn.Dropout(0.3)\n",
        "    self.relu3 = torch.nn.ReLU()\n",
        "    self.fc4 = torch.nn.Linear(512, 10)\n",
        "\n",
        "  def forward(self, x):\n",
        "    layer1 = self.mp1(self.conv1(x))\n",
        "    layer1 = self.relu1(self.droupout1(self.bn1(layer1)))\n",
        "        \n",
        "    layer2 = self.mp2(self.conv2(layer1))\n",
        "    layer2 = self.relu2(self.droupout2(self.bn2(layer2)))\n",
        "        \n",
        "    out = self.flatten(layer2)\n",
        "    out = self.relu3(self.droupout3(self.fc3(out)))\n",
        "    out = self.fc4(out)\n",
        "    return out # [batch,10] i.e. batch of logits"
      ],
      "execution_count": 8,
      "outputs": []
    },
    {
      "cell_type": "markdown",
      "metadata": {
        "id": "TeNSA5Pnt-Ty"
      },
      "source": [
        "Right now, one can train this convolutional neural network during 70 epochs to get filters like from SKD"
      ]
    },
    {
      "cell_type": "code",
      "metadata": {
        "id": "tYn19t9ZnREV"
      },
      "source": [
        "def train(\n",
        "    model,     # SimpleConvNet()\n",
        "    criterion, # torch.nn.CrossEntropyLoss()\n",
        "    optimizer, # torch.optim.SGD()\n",
        "    train_loader, \n",
        "    val_loader,\n",
        "    num_epochs=50 \n",
        "):\n",
        "    '''\n",
        "    Функция для обучения модели и вывода лосса и метрики во время обучения.\n",
        "\n",
        "    :param model: trained model\n",
        "    :param criterion: Loss function\n",
        "    :param optimizer: method of optimization\n",
        "    :param train_loader: data loader for training\n",
        "    :param val_loader: data loader for validation\n",
        "    :param num_epochs: num epochs\n",
        "\n",
        "    :return: learned model\n",
        "    :return: (dict) accuracy and loss on training and validation (\"история\" обучения)\n",
        "    '''\n",
        "\n",
        "    history = defaultdict(lambda: defaultdict(list))\n",
        "\n",
        "    for epoch in tqdm_notebook(range(num_epochs)):\n",
        "\n",
        "        train_loss = 0\n",
        "        train_acc = 0\n",
        "        val_loss = 0\n",
        "        val_acc = 0\n",
        "        \n",
        "        start_time = time.time()\n",
        "\n",
        "        #  set behaviour dropout / batch_norm  in training\n",
        "        model.train(True) \n",
        "\n",
        "        for X_batch, y_batch in train_loader:\n",
        "            X_batch = X_batch.cuda()\n",
        "            y_batch = y_batch.cuda()\n",
        "            \n",
        "            logits = model(X_batch)\n",
        "            \n",
        "            loss = criterion(logits, y_batch.long().cuda())\n",
        "\n",
        "            loss.backward()\n",
        "            optimizer.step()\n",
        "            optimizer.zero_grad()\n",
        "            \n",
        "            train_loss += np.sum(loss.detach().cpu().numpy())\n",
        "            y_pred = logits.max(1)[1].detach().cpu().numpy()\n",
        "            train_acc += np.mean(y_batch.cpu().numpy() == y_pred)\n",
        "\n",
        "        # calcukate loss and accuracy and  save to \"историю\"\n",
        "        train_loss /= len(train_loader)\n",
        "        train_acc /= len(train_loader) \n",
        "        history['loss']['train'].append(train_loss)\n",
        "        history['acc']['train'].append(train_acc)\n",
        "    \n",
        "        # set behaviour dropout / batch_norm  in testing session\n",
        "        model.train(False) \n",
        "   \n",
        "        for X_batch, y_batch in val_loader:\n",
        "            X_batch = X_batch.cuda()\n",
        "            y_batch = y_batch.cuda()\n",
        "            \n",
        "            logits = model(X_batch)\n",
        "            loss = criterion(logits, y_batch.long().cuda())\n",
        "            val_loss += np.sum(loss.detach().cpu().numpy())\n",
        "            y_pred = logits.max(1)[1].detach().cpu().numpy()\n",
        "            val_acc += np.mean(y_batch.cpu().numpy() == y_pred)\n",
        "\n",
        "        val_loss /= len(val_loader)\n",
        "        val_acc /= len(val_loader) \n",
        "        history['loss']['val'].append(val_loss)\n",
        "        history['acc']['val'].append(val_acc)\n",
        "        \n",
        "        clear_output()\n",
        "        \n",
        "        #print results after each epoch\n",
        "        print(\"Epoch {} of {} took {:.3f}s\".format(\n",
        "            epoch + 1, num_epochs, time.time() - start_time))\n",
        "        print(\"  training loss (in-iteration): \\t{:.6f}\".format(train_loss))\n",
        "        print(\"  validation loss (in-iteration): \\t{:.6f}\".format(val_loss))\n",
        "        print(\"  training accuracy: \\t\\t\\t{:.2f} %\".format(train_acc * 100))\n",
        "        print(\"  validation accuracy: \\t\\t\\t{:.2f} %\".format(val_acc * 100))\n",
        "        \n",
        "        plot_learning_curves(history)\n",
        "        \n",
        "    return model, history"
      ],
      "execution_count": 9,
      "outputs": []
    },
    {
      "cell_type": "code",
      "metadata": {
        "colab": {
          "base_uri": "https://localhost:8080/",
          "height": 567,
          "referenced_widgets": [
            "543adb711a714d128bfb7e49ec52063e",
            "ead126521ec94dfd8cc5b0096359ec3a",
            "bc8901226b8a42fe996dedbf3ecc6411",
            "e7894f11b268451eb9e8097d9ca16908",
            "81bc72cb54c34cd798c73ce8d3299fb6",
            "e247c8a3bc0440fa8c7dedbb8757f1f4",
            "14e66a84ee8642638fc6380b18892ed5",
            "d2ed904ebf3c4a37a712da94287d2141"
          ]
        },
        "id": "GvKj2-Xjpmh9",
        "outputId": "45e2b388-5be4-48bf-a975-9cb0efc976bd"
      },
      "source": [
        "model = SimpleConvNet().cuda()\n",
        "criterion = torch.nn.CrossEntropyLoss()\n",
        "optimizer = torch.optim.SGD(model.parameters(), lr=0.01)\n",
        "\n",
        "model, history = train(\n",
        "    model, criterion, optimizer, \n",
        "    train_loader, val_loader, \n",
        "    num_epochs=70\n",
        ")"
      ],
      "execution_count": 10,
      "outputs": [
        {
          "output_type": "stream",
          "text": [
            "Epoch 70 of 70 took 7.396s\n",
            "  training loss (in-iteration): \t0.340003\n",
            "  validation loss (in-iteration): \t0.692950\n",
            "  training accuracy: \t\t\t88.09 %\n",
            "  validation accuracy: \t\t\t76.91 %\n"
          ],
          "name": "stdout"
        },
        {
          "output_type": "display_data",
          "data": {
            "image/png": "[encoded data removed]",
            "text/plain": [
              "<Figure size 1440x504 with 2 Axes>"
            ]
          },
          "metadata": {
            "tags": [],
            "needs_background": "light"
          }
        },
        {
          "output_type": "stream",
          "text": [
            "\n"
          ],
          "name": "stdout"
        }
      ]
    },
    {
      "cell_type": "code",
      "metadata": {
        "id": "ry_WpAy23RP5"
      },
      "source": [
        "def test_eval(model,test_loader):\n",
        "\n",
        "  model.eval()\n",
        "  total_loss = 0\n",
        "  test_acc = 0\n",
        "\n",
        "  with torch.no_grad():\n",
        "    for X_batch,Y_batch in test_loader:\n",
        "      \n",
        "      X_batch,Y_batch = X_batch.cuda(),Y_batch.cuda()\n",
        "      test_loss = criterion(model(X_batch),Y_batch.long().cuda())\n",
        "      total_loss += np.sum(test_loss.cpu().numpy())\n",
        "\n",
        "      y_pred = model(X_batch).max(1)[1].cpu().numpy()\n",
        "      test_acc += np.mean(Y_batch.cpu().numpy() == y_pred)\n",
        "\n",
        "    avg_loss = total_loss/(len(test_loader))\n",
        "    avg_acc = test_acc/(len(test_loader)) \n",
        "  \n",
        "  return avg_loss, avg_acc\n"
      ],
      "execution_count": 18,
      "outputs": []
    },
    {
      "cell_type": "code",
      "metadata": {
        "colab": {
          "base_uri": "https://localhost:8080/"
        },
        "id": "oBh55UM45mWn",
        "outputId": "14381f25-ec7f-4b7c-eecc-ff49e4689974"
      },
      "source": [
        "test_eval(model,test_loader)"
      ],
      "execution_count": 19,
      "outputs": [
        {
          "output_type": "execute_result",
          "data": {
            "text/plain": [
              "(0.6867357380450911, 0.765625)"
            ]
          },
          "metadata": {
            "tags": []
          },
          "execution_count": 19
        }
      ]
    },
    {
      "cell_type": "markdown",
      "metadata": {
        "id": "HlpQx0Em6kd-"
      },
      "source": [
        "Thus, one can see that our model is able to get 77% accuracy on test dataset."
      ]
    },
    {
      "cell_type": "code",
      "metadata": {
        "id": "QF0kiXm56yE-"
      },
      "source": [
        "filters_1 = model.conv1.weight.detach().cpu().reshape(32*3,3,3)\n",
        "filters_2 = model.conv2.weight.detach().cpu().reshape(64*32,3,3)\n",
        "\n",
        "norms_1 = torch.linalg.norm(filters_1,dim=(-2,-1))\n",
        "norms_2 = torch.linalg.norm(filters_2,dim=(-2,-1))\n",
        "norms = list()\n",
        "norms.extend([norms_1,norms_2])"
      ],
      "execution_count": 30,
      "outputs": []
    },
    {
      "cell_type": "code",
      "metadata": {
        "colab": {
          "base_uri": "https://localhost:8080/",
          "height": 388
        },
        "id": "-YaN3GAy8PJ4",
        "outputId": "b8ce8c55-86d9-48af-d0fb-4e1161c6a313"
      },
      "source": [
        "fig,ax = plt.subplots(nrows=1,ncols=2,figsize=(15,6))\n",
        "ax = ax.flatten()\n",
        "for idx in range(2):\n",
        "  ax[idx].hist(norms[idx], density=False, bins=30,label= str(idx + 1) + \" layer of CNN\") \n",
        "  ax[idx].set_ylabel('Counts of filters with the norm')\n",
        "  ax[idx].set_xlabel(\"values of filter's norm\")\n",
        "  ax[idx].legend()\n",
        "plt.show();"
      ],
      "execution_count": 31,
      "outputs": [
        {
          "output_type": "display_data",
          "data": {
            "image/png": "[encoded data removed]",
            "text/plain": [
              "<Figure size 1080x432 with 2 Axes>"
            ]
          },
          "metadata": {
            "tags": [],
            "needs_background": "light"
          }
        }
      ]
    }
  ]
}